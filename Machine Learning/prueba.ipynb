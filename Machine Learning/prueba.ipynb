{
 "cells": [
  {
   "cell_type": "markdown",
   "metadata": {},
   "source": [
    "# Sistema de Recomendación de Cursos\n",
    "### Javier Hiruelo Pérez\n",
    "\n",
    "Sistema de recomendación de cursos para el concurso de Hack4Good de 2024."
   ]
  },
  {
   "cell_type": "code",
   "execution_count": 9,
   "metadata": {},
   "outputs": [],
   "source": [
    "import pandas as pd\n",
    "import numpy as np"
   ]
  },
  {
   "cell_type": "code",
   "execution_count": 10,
   "metadata": {},
   "outputs": [
    {
     "data": {
      "text/html": [
       "<div>\n",
       "<style scoped>\n",
       "    .dataframe tbody tr th:only-of-type {\n",
       "        vertical-align: middle;\n",
       "    }\n",
       "\n",
       "    .dataframe tbody tr th {\n",
       "        vertical-align: top;\n",
       "    }\n",
       "\n",
       "    .dataframe thead th {\n",
       "        text-align: right;\n",
       "    }\n",
       "</style>\n",
       "<table border=\"1\" class=\"dataframe\">\n",
       "  <thead>\n",
       "    <tr style=\"text-align: right;\">\n",
       "      <th></th>\n",
       "      <th>Especificación</th>\n",
       "      <th>Instructores</th>\n",
       "      <th>Puntuación</th>\n",
       "      <th>Reviews</th>\n",
       "      <th>Skills</th>\n",
       "      <th>Detalles</th>\n",
       "      <th>URL</th>\n",
       "      <th>URL Imagen</th>\n",
       "      <th>Tiempo</th>\n",
       "      <th>Alumnos</th>\n",
       "      <th>Descripción</th>\n",
       "    </tr>\n",
       "  </thead>\n",
       "  <tbody>\n",
       "    <tr>\n",
       "      <th>0</th>\n",
       "      <td>Machine Learning</td>\n",
       "      <td>DeepLearning.AI, Stanford University</td>\n",
       "      <td>4.9</td>\n",
       "      <td>(8.2k reviews)</td>\n",
       "      <td>Machine Learning, Probability &amp; Statistics, Ma...</td>\n",
       "      <td>Beginner · Specialization · 1-3 Months</td>\n",
       "      <td>/specializations/machine-learning-introduction</td>\n",
       "      <td>https://d3njjcbhbojbot.cloudfront.net/api/util...</td>\n",
       "      <td>Approximately 3 months to completeSuggested pa...</td>\n",
       "      <td>145,425 already enrolled</td>\n",
       "      <td>The Machine Learning Specialization is a found...</td>\n",
       "    </tr>\n",
       "    <tr>\n",
       "      <th>1</th>\n",
       "      <td>Introduction to Data Science</td>\n",
       "      <td>IBM Skills Network</td>\n",
       "      <td>4.6</td>\n",
       "      <td>(77.3k reviews)</td>\n",
       "      <td>Data Science, Data Structures, SQL, Computer P...</td>\n",
       "      <td>Credit Eligible</td>\n",
       "      <td>/specializations/introduction-data-science</td>\n",
       "      <td>https://d3njjcbhbojbot.cloudfront.net/api/util...</td>\n",
       "      <td>Approximately 4 months to completeSuggested pa...</td>\n",
       "      <td>75,229 already enrolled</td>\n",
       "      <td>Interested in learning more about data science...</td>\n",
       "    </tr>\n",
       "    <tr>\n",
       "      <th>2</th>\n",
       "      <td>Data Science Fundamentals with Python and SQL</td>\n",
       "      <td>IBM Skills Network</td>\n",
       "      <td>4.5</td>\n",
       "      <td>(52.8k reviews)</td>\n",
       "      <td>Data Structures, Python Programming, Data Anal...</td>\n",
       "      <td>Credit Eligible</td>\n",
       "      <td>/specializations/data-science-fundamentals-pyt...</td>\n",
       "      <td>https://d3njjcbhbojbot.cloudfront.net/api/util...</td>\n",
       "      <td>Approximately 7 months to completeSuggested pa...</td>\n",
       "      <td>31,178 already enrolled</td>\n",
       "      <td>Data Science is one of the hottest professions...</td>\n",
       "    </tr>\n",
       "    <tr>\n",
       "      <th>3</th>\n",
       "      <td>Key Technologies for Business</td>\n",
       "      <td>IBM Skills Network</td>\n",
       "      <td>4.7</td>\n",
       "      <td>(73.7k reviews)</td>\n",
       "      <td>Data Science, Cloud Computing, Applied Machine...</td>\n",
       "      <td>Beginner · Specialization · 1-3 Months</td>\n",
       "      <td>/specializations/key-technologies-for-business</td>\n",
       "      <td>https://d3njjcbhbojbot.cloudfront.net/api/util...</td>\n",
       "      <td>Approximately 3 months to completeSuggested pa...</td>\n",
       "      <td>14,231 already enrolled</td>\n",
       "      <td>In this Specialization, we will cover 3 key te...</td>\n",
       "    </tr>\n",
       "    <tr>\n",
       "      <th>4</th>\n",
       "      <td>Deep Learning</td>\n",
       "      <td>DeepLearning.AI</td>\n",
       "      <td>4.8</td>\n",
       "      <td>(137.9k reviews)</td>\n",
       "      <td>Deep Learning, Machine Learning, Artificial Ne...</td>\n",
       "      <td>Credit Eligible</td>\n",
       "      <td>/specializations/deep-learning</td>\n",
       "      <td>https://d3njjcbhbojbot.cloudfront.net/api/util...</td>\n",
       "      <td>Approximately 5 months to completeSuggested pa...</td>\n",
       "      <td>742,213 already enrolled</td>\n",
       "      <td>The Deep Learning Specialization is a foundati...</td>\n",
       "    </tr>\n",
       "  </tbody>\n",
       "</table>\n",
       "</div>"
      ],
      "text/plain": [
       "                                  Especificación  \\\n",
       "0                               Machine Learning   \n",
       "1                   Introduction to Data Science   \n",
       "2  Data Science Fundamentals with Python and SQL   \n",
       "3                  Key Technologies for Business   \n",
       "4                                  Deep Learning   \n",
       "\n",
       "                           Instructores  Puntuación           Reviews  \\\n",
       "0  DeepLearning.AI, Stanford University         4.9    (8.2k reviews)   \n",
       "1                    IBM Skills Network         4.6   (77.3k reviews)   \n",
       "2                    IBM Skills Network         4.5   (52.8k reviews)   \n",
       "3                    IBM Skills Network         4.7   (73.7k reviews)   \n",
       "4                       DeepLearning.AI         4.8  (137.9k reviews)   \n",
       "\n",
       "                                              Skills  \\\n",
       "0  Machine Learning, Probability & Statistics, Ma...   \n",
       "1  Data Science, Data Structures, SQL, Computer P...   \n",
       "2  Data Structures, Python Programming, Data Anal...   \n",
       "3  Data Science, Cloud Computing, Applied Machine...   \n",
       "4  Deep Learning, Machine Learning, Artificial Ne...   \n",
       "\n",
       "                                 Detalles  \\\n",
       "0  Beginner · Specialization · 1-3 Months   \n",
       "1                         Credit Eligible   \n",
       "2                         Credit Eligible   \n",
       "3  Beginner · Specialization · 1-3 Months   \n",
       "4                         Credit Eligible   \n",
       "\n",
       "                                                 URL  \\\n",
       "0     /specializations/machine-learning-introduction   \n",
       "1         /specializations/introduction-data-science   \n",
       "2  /specializations/data-science-fundamentals-pyt...   \n",
       "3     /specializations/key-technologies-for-business   \n",
       "4                     /specializations/deep-learning   \n",
       "\n",
       "                                          URL Imagen  \\\n",
       "0  https://d3njjcbhbojbot.cloudfront.net/api/util...   \n",
       "1  https://d3njjcbhbojbot.cloudfront.net/api/util...   \n",
       "2  https://d3njjcbhbojbot.cloudfront.net/api/util...   \n",
       "3  https://d3njjcbhbojbot.cloudfront.net/api/util...   \n",
       "4  https://d3njjcbhbojbot.cloudfront.net/api/util...   \n",
       "\n",
       "                                              Tiempo  \\\n",
       "0  Approximately 3 months to completeSuggested pa...   \n",
       "1  Approximately 4 months to completeSuggested pa...   \n",
       "2  Approximately 7 months to completeSuggested pa...   \n",
       "3  Approximately 3 months to completeSuggested pa...   \n",
       "4  Approximately 5 months to completeSuggested pa...   \n",
       "\n",
       "                    Alumnos                                        Descripción  \n",
       "0  145,425 already enrolled  The Machine Learning Specialization is a found...  \n",
       "1   75,229 already enrolled  Interested in learning more about data science...  \n",
       "2   31,178 already enrolled  Data Science is one of the hottest professions...  \n",
       "3   14,231 already enrolled  In this Specialization, we will cover 3 key te...  \n",
       "4  742,213 already enrolled  The Deep Learning Specialization is a foundati...  "
      ]
     },
     "execution_count": 10,
     "metadata": {},
     "output_type": "execute_result"
    }
   ],
   "source": [
    "encabezado = {\"SpecializationName\":\"Especificación\",\n",
    "              \"SpecializationInstructors\":\"Instructores\",\n",
    "              \"ReviewScore\":\"Puntuación\",\n",
    "              \"ReviewCount\":\"Reviews\",\n",
    "              \"Skills\":\"Skills\",\n",
    "              \"Details\":\"Detalles\",\n",
    "              \"SpecializationURL\":\"URL\",\n",
    "              \"SpecialziationImgURL\":\"URL Imagen\",\n",
    "              \"SuggestedTime\":\"Tiempo\",\n",
    "              \"SpecializationEnrolled\":\"Alumnos\",\n",
    "              \"SpecializationDescription\":\"Descripción\"}\n",
    "\n",
    "courses_db = pd.read_csv(filepath_or_buffer=\"specializations.csv\")\n",
    "courses_db = courses_db.rename(columns=encabezado)\n",
    "courses_db.head()"
   ]
  },
  {
   "cell_type": "markdown",
   "metadata": {},
   "source": [
    "Para obtener el número de alumnos por curso tenemos que mapearlo porque vienen contenido en un *string* y algunos aleatoriamente son un *integer* y algunos valores son *NaN*."
   ]
  },
  {
   "cell_type": "code",
   "execution_count": 11,
   "metadata": {},
   "outputs": [
    {
     "data": {
      "text/plain": [
       "0    145425\n",
       "1     75229\n",
       "2     31178\n",
       "3     14231\n",
       "4    742213\n",
       "Name: Alumnos, dtype: int64"
      ]
     },
     "execution_count": 11,
     "metadata": {},
     "output_type": "execute_result"
    }
   ],
   "source": [
    "def mapeo(alumno,replaced_char):\n",
    "    if type(alumno) == str:\n",
    "        return alumno.replace(replaced_char,\"\").split(\" \")[0]\n",
    "    else:\n",
    "        return alumno\n",
    "\n",
    "courses_alumns = courses_db[\"Alumnos\"].fillna(0)\n",
    "courses_alumns = courses_alumns.map(lambda x: int(mapeo(x,\",\")))\n",
    "courses_alumns.head()"
   ]
  },
  {
   "cell_type": "markdown",
   "metadata": {},
   "source": [
    "La forma de ver si un curso es relevante o no debería ser una función en base a su puntuación media y el ratio de inscritos y reviews, porque podemos suponer que solo los alumnos inscritos que están satisfechos con el curso dejan una review positiva y lo mismo con las reviews negativas. Así que vamos a calcular un valor intermedio que tenga en cuenta esos factores:"
   ]
  },
  {
   "cell_type": "code",
   "execution_count": 12,
   "metadata": {},
   "outputs": [
    {
     "name": "stdout",
     "output_type": "stream",
     "text": [
      "0    4.9\n",
      "1    4.6\n",
      "2    4.5\n",
      "3    4.7\n",
      "4    4.8\n",
      "Name: Puntuación, dtype: float64\n"
     ]
    },
    {
     "data": {
      "text/plain": [
       "0      8200.0\n",
       "1     77300.0\n",
       "2     52800.0\n",
       "3     73700.0\n",
       "4    137900.0\n",
       "Name: Reviews, dtype: float64"
      ]
     },
     "execution_count": 12,
     "metadata": {},
     "output_type": "execute_result"
    }
   ],
   "source": [
    "#TODO\n",
    "courses_score = courses_db[\"Puntuación\"].fillna(0)\n",
    "print(courses_score.head())\n",
    "\n",
    "courses_review = courses_db[\"Reviews\"].fillna(0)\n",
    "courses_review = courses_review.map(lambda x: mapeo(x,\"(\"))\n",
    "courses_review = courses_review.map(lambda x: float(x.replace(\"k\",\"\"))*1000 if \"k\" in str(x) else float(x))\n",
    "courses_review.head()"
   ]
  },
  {
   "cell_type": "code",
   "execution_count": 13,
   "metadata": {},
   "outputs": [
    {
     "name": "stdout",
     "output_type": "stream",
     "text": [
      "-----INFORMACIÓN SOBRE EL PRIMER CURSO DE LA BASE DE DATOS-----\n",
      "\n",
      "- Nombre de la especificación: \n",
      "\n",
      " \tMachine Learning \n",
      "\n",
      "- URL del curso: \n",
      "\n",
      " \thttps://www.coursera.org/specializations/machine-learning-introduction \n",
      "\n",
      "- Imagen de cabecera del curso: \n",
      "\n",
      " \thttps://d3njjcbhbojbot.cloudfront.net/api/utilities/v1/imageproxy/https://d15cw65ipctsrr.cloudfront.net/3a/9d2a7af297483a845340bcfbac6f1e/MLS.course-banners-01_Course-Logo-.png?auto=format%2Ccompress%2C%20enhance&dpr=1&w=600&h=216&fit=fill&q=50 \n",
      "\n",
      "- Instructores del curso: \n",
      "\n",
      " \tDeepLearning.AI, Stanford University \n",
      "\n",
      "- Alumnos inscritos del curso: \n",
      "\n",
      " \t145425 \n",
      "\n",
      "- Reviews del curso: \n",
      "\n",
      " \t8200.0 \n",
      "\n",
      "- Puntuación del curso: \n",
      "\n",
      " \t4.9 \n",
      "\n",
      "- Descripción del curso: \n",
      "\n",
      " \tThe Machine Learning Specialization is a foundational online program created in collaboration between DeepLearning.AI and Stanford Online. This beginner-friendly program will teach you the fundamentals of machine learning and how to use these techniques to build real-world AI applications. This Specialization is taught by Andrew Ng, an AI visionary who has led critical research at Stanford University and groundbreaking work at Google Brain, Baidu, and Landing.AI to advance the AI field.This 3-course Specialization is an updated version of Andrew’s pioneering Machine Learning course, rated 4.9 out of 5 and taken by over 4.8 million learners since it launched in 2012. It provides a broad introduction to modern machine learning, including supervised learning (multiple linear regression, logistic regression, neural networks, and decision trees), unsupervised learning (clustering, dimensionality reduction, recommender systems), and some of the best practices used in Silicon Valley for artificial intelligence and machine learning innovation (evaluating and tuning models, taking a data-centric approach to improving performance, and more.)By the end of this Specialization, you will have mastered key concepts and gained the practical know-how to quickly and powerfully apply machine learning to challenging real-world problems. If you’re looking to break into AI or build a career in machine learning, the new Machine Learning Specialization is the best place to start. \n",
      "\n"
     ]
    }
   ],
   "source": [
    "# Nombres de los cursos:\n",
    "courses_names = courses_db[\"Especificación\"]\n",
    "# Recomponemos las URL de los cursos:\n",
    "courses_URLs = \"https://www.coursera.org\" + courses_db[\"URL\"]\n",
    "# Las URL de las imágenes vienen dadas enteras, no hay que generarlas:\n",
    "courses_IMGs_URLs = courses_db[\"URL Imagen\"]\n",
    "# Los instructores pueden ser varios y vienen separados por comas:\n",
    "courses_instructors = courses_db[\"Instructores\"]\n",
    "# Descripciones de los cursos:\n",
    "courses_descriptions = courses_db[\"Descripción\"]\n",
    "\n",
    "print(\"-----INFORMACIÓN SOBRE EL PRIMER CURSO DE LA BASE DE DATOS-----\\n\")\n",
    "print(f\"- Nombre de la especificación: \\n\\n \\t{courses_names[0]} \\n\")\n",
    "print(f\"- URL del curso: \\n\\n \\t{courses_URLs[0]} \\n\")\n",
    "print(f\"- Imagen de cabecera del curso: \\n\\n \\t{courses_IMGs_URLs[0]} \\n\")\n",
    "print(f\"- Instructores del curso: \\n\\n \\t{courses_instructors[0]} \\n\")\n",
    "print(f\"- Alumnos inscritos del curso: \\n\\n \\t{courses_alumns[0]} \\n\")\n",
    "print(f\"- Reviews del curso: \\n\\n \\t{courses_review[0]} \\n\")\n",
    "print(f\"- Puntuación del curso: \\n\\n \\t{courses_score[0]} \\n\")\n",
    "print(f\"- Descripción del curso: \\n\\n \\t{courses_descriptions[0]} \\n\")"
   ]
  },
  {
   "cell_type": "code",
   "execution_count": 14,
   "metadata": {},
   "outputs": [],
   "source": [
    "data = {\"Name\":courses_names,\"Instructors\":courses_instructors,\"URL\":courses_URLs,\"Imgs\":courses_IMGs_URLs,\"Reviews\":courses_review,\"Alumns\":courses_alumns,\"Description\":courses_descriptions}\n",
    "df = pd.DataFrame(data=data)\n",
    "df.to_csv(path_or_buf=\"courses_data.csv\",sep=\",\",encoding='utf-8',index=False)"
   ]
  },
  {
   "cell_type": "code",
   "execution_count": 15,
   "metadata": {},
   "outputs": [
    {
     "name": "stdout",
     "output_type": "stream",
     "text": [
      "['', 'ManagementAccounting', 'GISSoftware', 'BusinessTransformation', 'ConflictManagement']\n",
      "343\n"
     ]
    },
    {
     "data": {
      "text/plain": [
       "724"
      ]
     },
     "execution_count": 15,
     "metadata": {},
     "output_type": "execute_result"
    }
   ],
   "source": [
    "courses_skills = courses_db[\"Skills\"].fillna(\"\").map(lambda x: str(x).replace(\" \",\"\").split(\",\"))\n",
    "# Vamos a ver todos los tipos distintos de skills que hay\n",
    "skills = []\n",
    "for skill in courses_skills:\n",
    "    skills = skills + skill\n",
    "\n",
    "print(list(set(skills))[:5])\n",
    "print(len(set(skills)))\n",
    "\n",
    "len(set(courses_names))"
   ]
  },
  {
   "cell_type": "markdown",
   "metadata": {},
   "source": [
    "## Modelo de Red Neuronal para Recomendación de Cursos\n",
    "\n",
    "Un usuario puede estar definido por las skils que tiene o que quiere obtener con los cursos. Podemos representar los usuarios con vectores de **343** elementos y la salida de la red neuronal será una capa de **728** donde aplicamos una **softmax** que nos dará la probabilidad de que el curso se ajuste a lo que busca el usuario."
   ]
  },
  {
   "cell_type": "code",
   "execution_count": 20,
   "metadata": {},
   "outputs": [
    {
     "name": "stdout",
     "output_type": "stream",
     "text": [
      "Los usuarios pueden escoger entre 343 Skills diferentes.\n",
      "\n",
      "Existen 728 Cursos distintos en la base de datos.\n"
     ]
    }
   ],
   "source": [
    "skills_dim = len(set(skills))\n",
    "paths_dim = len(set(courses_URLs))\n",
    "\n",
    "print(f\"Los usuarios pueden escoger entre {skills_dim} Skills diferentes.\\n\")\n",
    "print(f\"Existen {paths_dim} Cursos distintos en la base de datos.\")"
   ]
  },
  {
   "cell_type": "markdown",
   "metadata": {},
   "source": [
    "### Creación de los Conjuntos de Entrenamiento y Test"
   ]
  },
  {
   "cell_type": "markdown",
   "metadata": {},
   "source": [
    "Ahora hay que el conjunto de entrenamiento y test para entrenar el modelo."
   ]
  },
  {
   "cell_type": "code",
   "execution_count": 21,
   "metadata": {},
   "outputs": [],
   "source": [
    "from sklearn.preprocessing import OneHotEncoder\n",
    "\n",
    "ohe = OneHotEncoder()\n",
    "skills_one_hot = ohe.fit_transform(pd.DataFrame(sorted(skills)))\n",
    "\n",
    "skills_one_hot = skills_one_hot.toarray()"
   ]
  },
  {
   "cell_type": "code",
   "execution_count": 22,
   "metadata": {},
   "outputs": [
    {
     "name": "stdout",
     "output_type": "stream",
     "text": [
      "(14900, 343)\n"
     ]
    },
    {
     "data": {
      "text/plain": [
       "array([[1., 0., 0., ..., 0., 0., 0.],\n",
       "       [1., 0., 0., ..., 0., 0., 0.],\n",
       "       [1., 0., 0., ..., 0., 0., 0.],\n",
       "       ...,\n",
       "       [0., 0., 0., ..., 0., 0., 1.],\n",
       "       [0., 0., 0., ..., 0., 0., 1.],\n",
       "       [0., 0., 0., ..., 0., 0., 1.]])"
      ]
     },
     "execution_count": 22,
     "metadata": {},
     "output_type": "execute_result"
    }
   ],
   "source": [
    "input = skills_one_hot\n",
    "print(input.shape)\n",
    "input"
   ]
  },
  {
   "cell_type": "code",
   "execution_count": 23,
   "metadata": {},
   "outputs": [
    {
     "name": "stdout",
     "output_type": "stream",
     "text": [
      "(728, 343)\n"
     ]
    },
    {
     "data": {
      "text/plain": [
       "array([[0, 0, 1, ..., 0, 0, 0],\n",
       "       [0, 0, 0, ..., 0, 1, 0],\n",
       "       [0, 0, 0, ..., 0, 0, 0],\n",
       "       ...,\n",
       "       [1, 0, 0, ..., 0, 0, 0],\n",
       "       [0, 0, 0, ..., 0, 0, 0],\n",
       "       [0, 0, 0, ..., 0, 0, 0]])"
      ]
     },
     "execution_count": 23,
     "metadata": {},
     "output_type": "execute_result"
    }
   ],
   "source": [
    "from sklearn.preprocessing import MultiLabelBinarizer\n",
    "\n",
    "mlb = MultiLabelBinarizer()\n",
    "output = pd.DataFrame(mlb.fit_transform(courses_skills),\n",
    "                   columns=mlb.classes_,\n",
    "                   index=courses_skills.index)\n",
    "\n",
    "print(output.shape)\n",
    "output = np.array(output)\n",
    "output"
   ]
  },
  {
   "cell_type": "markdown",
   "metadata": {},
   "source": [
    "### Creación del Modelo"
   ]
  },
  {
   "cell_type": "code",
   "execution_count": 24,
   "metadata": {},
   "outputs": [
    {
     "name": "stderr",
     "output_type": "stream",
     "text": [
      "2024-03-15 11:26:26.016198: I external/local_tsl/tsl/cuda/cudart_stub.cc:32] Could not find cuda drivers on your machine, GPU will not be used.\n",
      "2024-03-15 11:26:26.021029: I external/local_tsl/tsl/cuda/cudart_stub.cc:32] Could not find cuda drivers on your machine, GPU will not be used.\n",
      "2024-03-15 11:26:26.095855: I tensorflow/core/platform/cpu_feature_guard.cc:210] This TensorFlow binary is optimized to use available CPU instructions in performance-critical operations.\n",
      "To enable the following instructions: AVX2 FMA, in other operations, rebuild TensorFlow with the appropriate compiler flags.\n",
      "2024-03-15 11:26:27.095047: W tensorflow/compiler/tf2tensorrt/utils/py_utils.cc:38] TF-TRT Warning: Could not find TensorRT\n",
      "2024-03-15 11:26:27.824488: I external/local_xla/xla/stream_executor/cuda/cuda_executor.cc:998] successful NUMA node read from SysFS had negative value (-1), but there must be at least one NUMA node, so returning NUMA node zero. See more at https://github.com/torvalds/linux/blob/v6.0/Documentation/ABI/testing/sysfs-bus-pci#L344-L355\n",
      "2024-03-15 11:26:27.825307: W tensorflow/core/common_runtime/gpu/gpu_device.cc:2251] Cannot dlopen some GPU libraries. Please make sure the missing libraries mentioned above are installed properly if you would like to use GPU. Follow the guide at https://www.tensorflow.org/install/gpu for how to download and setup the required libraries for your platform.\n",
      "Skipping registering GPU devices...\n"
     ]
    },
    {
     "data": {
      "text/html": [
       "<pre style=\"white-space:pre;overflow-x:auto;line-height:normal;font-family:Menlo,'DejaVu Sans Mono',consolas,'Courier New',monospace\"><span style=\"font-weight: bold\">Model: \"functional_1\"</span>\n",
       "</pre>\n"
      ],
      "text/plain": [
       "\u001b[1mModel: \"functional_1\"\u001b[0m\n"
      ]
     },
     "metadata": {},
     "output_type": "display_data"
    },
    {
     "data": {
      "text/html": [
       "<pre style=\"white-space:pre;overflow-x:auto;line-height:normal;font-family:Menlo,'DejaVu Sans Mono',consolas,'Courier New',monospace\">┏━━━━━━━━━━━━━━━━━━━━━━━━━━━━━━━━━┳━━━━━━━━━━━━━━━━━━━━━━━━┳━━━━━━━━━━━━━━━┓\n",
       "┃<span style=\"font-weight: bold\"> Layer (type)                    </span>┃<span style=\"font-weight: bold\"> Output Shape           </span>┃<span style=\"font-weight: bold\">       Param # </span>┃\n",
       "┡━━━━━━━━━━━━━━━━━━━━━━━━━━━━━━━━━╇━━━━━━━━━━━━━━━━━━━━━━━━╇━━━━━━━━━━━━━━━┩\n",
       "│ User_Skills (<span style=\"color: #0087ff; text-decoration-color: #0087ff\">InputLayer</span>)        │ (<span style=\"color: #00d7ff; text-decoration-color: #00d7ff\">None</span>, <span style=\"color: #00af00; text-decoration-color: #00af00\">343</span>)            │             <span style=\"color: #00af00; text-decoration-color: #00af00\">0</span> │\n",
       "├─────────────────────────────────┼────────────────────────┼───────────────┤\n",
       "│ dense_1 (<span style=\"color: #0087ff; text-decoration-color: #0087ff\">Dense</span>)                 │ (<span style=\"color: #00d7ff; text-decoration-color: #00d7ff\">None</span>, <span style=\"color: #00af00; text-decoration-color: #00af00\">64</span>)             │        <span style=\"color: #00af00; text-decoration-color: #00af00\">22,016</span> │\n",
       "├─────────────────────────────────┼────────────────────────┼───────────────┤\n",
       "│ dropout (<span style=\"color: #0087ff; text-decoration-color: #0087ff\">Dropout</span>)               │ (<span style=\"color: #00d7ff; text-decoration-color: #00d7ff\">None</span>, <span style=\"color: #00af00; text-decoration-color: #00af00\">64</span>)             │             <span style=\"color: #00af00; text-decoration-color: #00af00\">0</span> │\n",
       "├─────────────────────────────────┼────────────────────────┼───────────────┤\n",
       "│ dense_2 (<span style=\"color: #0087ff; text-decoration-color: #0087ff\">Dense</span>)                 │ (<span style=\"color: #00d7ff; text-decoration-color: #00d7ff\">None</span>, <span style=\"color: #00af00; text-decoration-color: #00af00\">64</span>)             │         <span style=\"color: #00af00; text-decoration-color: #00af00\">4,160</span> │\n",
       "├─────────────────────────────────┼────────────────────────┼───────────────┤\n",
       "│ dropout_1 (<span style=\"color: #0087ff; text-decoration-color: #0087ff\">Dropout</span>)             │ (<span style=\"color: #00d7ff; text-decoration-color: #00d7ff\">None</span>, <span style=\"color: #00af00; text-decoration-color: #00af00\">64</span>)             │             <span style=\"color: #00af00; text-decoration-color: #00af00\">0</span> │\n",
       "├─────────────────────────────────┼────────────────────────┼───────────────┤\n",
       "│ Recomendations (<span style=\"color: #0087ff; text-decoration-color: #0087ff\">Dense</span>)          │ (<span style=\"color: #00d7ff; text-decoration-color: #00d7ff\">None</span>, <span style=\"color: #00af00; text-decoration-color: #00af00\">728</span>)            │        <span style=\"color: #00af00; text-decoration-color: #00af00\">47,320</span> │\n",
       "└─────────────────────────────────┴────────────────────────┴───────────────┘\n",
       "</pre>\n"
      ],
      "text/plain": [
       "┏━━━━━━━━━━━━━━━━━━━━━━━━━━━━━━━━━┳━━━━━━━━━━━━━━━━━━━━━━━━┳━━━━━━━━━━━━━━━┓\n",
       "┃\u001b[1m \u001b[0m\u001b[1mLayer (type)                   \u001b[0m\u001b[1m \u001b[0m┃\u001b[1m \u001b[0m\u001b[1mOutput Shape          \u001b[0m\u001b[1m \u001b[0m┃\u001b[1m \u001b[0m\u001b[1m      Param #\u001b[0m\u001b[1m \u001b[0m┃\n",
       "┡━━━━━━━━━━━━━━━━━━━━━━━━━━━━━━━━━╇━━━━━━━━━━━━━━━━━━━━━━━━╇━━━━━━━━━━━━━━━┩\n",
       "│ User_Skills (\u001b[38;5;33mInputLayer\u001b[0m)        │ (\u001b[38;5;45mNone\u001b[0m, \u001b[38;5;34m343\u001b[0m)            │             \u001b[38;5;34m0\u001b[0m │\n",
       "├─────────────────────────────────┼────────────────────────┼───────────────┤\n",
       "│ dense_1 (\u001b[38;5;33mDense\u001b[0m)                 │ (\u001b[38;5;45mNone\u001b[0m, \u001b[38;5;34m64\u001b[0m)             │        \u001b[38;5;34m22,016\u001b[0m │\n",
       "├─────────────────────────────────┼────────────────────────┼───────────────┤\n",
       "│ dropout (\u001b[38;5;33mDropout\u001b[0m)               │ (\u001b[38;5;45mNone\u001b[0m, \u001b[38;5;34m64\u001b[0m)             │             \u001b[38;5;34m0\u001b[0m │\n",
       "├─────────────────────────────────┼────────────────────────┼───────────────┤\n",
       "│ dense_2 (\u001b[38;5;33mDense\u001b[0m)                 │ (\u001b[38;5;45mNone\u001b[0m, \u001b[38;5;34m64\u001b[0m)             │         \u001b[38;5;34m4,160\u001b[0m │\n",
       "├─────────────────────────────────┼────────────────────────┼───────────────┤\n",
       "│ dropout_1 (\u001b[38;5;33mDropout\u001b[0m)             │ (\u001b[38;5;45mNone\u001b[0m, \u001b[38;5;34m64\u001b[0m)             │             \u001b[38;5;34m0\u001b[0m │\n",
       "├─────────────────────────────────┼────────────────────────┼───────────────┤\n",
       "│ Recomendations (\u001b[38;5;33mDense\u001b[0m)          │ (\u001b[38;5;45mNone\u001b[0m, \u001b[38;5;34m728\u001b[0m)            │        \u001b[38;5;34m47,320\u001b[0m │\n",
       "└─────────────────────────────────┴────────────────────────┴───────────────┘\n"
      ]
     },
     "metadata": {},
     "output_type": "display_data"
    },
    {
     "data": {
      "text/html": [
       "<pre style=\"white-space:pre;overflow-x:auto;line-height:normal;font-family:Menlo,'DejaVu Sans Mono',consolas,'Courier New',monospace\"><span style=\"font-weight: bold\"> Total params: </span><span style=\"color: #00af00; text-decoration-color: #00af00\">73,496</span> (287.09 KB)\n",
       "</pre>\n"
      ],
      "text/plain": [
       "\u001b[1m Total params: \u001b[0m\u001b[38;5;34m73,496\u001b[0m (287.09 KB)\n"
      ]
     },
     "metadata": {},
     "output_type": "display_data"
    },
    {
     "data": {
      "text/html": [
       "<pre style=\"white-space:pre;overflow-x:auto;line-height:normal;font-family:Menlo,'DejaVu Sans Mono',consolas,'Courier New',monospace\"><span style=\"font-weight: bold\"> Trainable params: </span><span style=\"color: #00af00; text-decoration-color: #00af00\">73,496</span> (287.09 KB)\n",
       "</pre>\n"
      ],
      "text/plain": [
       "\u001b[1m Trainable params: \u001b[0m\u001b[38;5;34m73,496\u001b[0m (287.09 KB)\n"
      ]
     },
     "metadata": {},
     "output_type": "display_data"
    },
    {
     "data": {
      "text/html": [
       "<pre style=\"white-space:pre;overflow-x:auto;line-height:normal;font-family:Menlo,'DejaVu Sans Mono',consolas,'Courier New',monospace\"><span style=\"font-weight: bold\"> Non-trainable params: </span><span style=\"color: #00af00; text-decoration-color: #00af00\">0</span> (0.00 B)\n",
       "</pre>\n"
      ],
      "text/plain": [
       "\u001b[1m Non-trainable params: \u001b[0m\u001b[38;5;34m0\u001b[0m (0.00 B)\n"
      ]
     },
     "metadata": {},
     "output_type": "display_data"
    }
   ],
   "source": [
    "import tensorflow as tf\n",
    "from sklearn.model_selection import train_test_split\n",
    "\n",
    "inputs = tf.keras.Input(shape=(343,), name=\"User_Skills\")\n",
    "x = tf.keras.layers.Dense(64, activation=tf.nn.relu, name=\"dense_1\")(inputs)\n",
    "x = tf.keras.layers.Dropout(0.2)(x)\n",
    "x = tf.keras.layers.Dense(64, activation=tf.nn.relu, name=\"dense_2\")(x)\n",
    "x = tf.keras.layers.Dropout(0.2)(x)\n",
    "outputs = tf.keras.layers.Dense(728, activation=tf.nn.softmax, name=\"Recomendations\")(x)\n",
    "\n",
    "model = tf.keras.Model(inputs = inputs, outputs = outputs)\n",
    "\n",
    "model.compile(optimizer='adam',\n",
    "              loss=tf.keras.losses.BinaryCrossentropy(from_logits=True),\n",
    "              metrics=['accuracy'])\n",
    "\n",
    "model.summary()"
   ]
  },
  {
   "cell_type": "code",
   "execution_count": 25,
   "metadata": {},
   "outputs": [
    {
     "ename": "ValueError",
     "evalue": "Found input variables with inconsistent numbers of samples: [14900, 343]",
     "output_type": "error",
     "traceback": [
      "\u001b[0;31m---------------------------------------------------------------------------\u001b[0m",
      "\u001b[0;31mValueError\u001b[0m                                Traceback (most recent call last)",
      "Cell \u001b[0;32mIn[25], line 1\u001b[0m\n\u001b[0;32m----> 1\u001b[0m X_train, X_test, y_train, y_test \u001b[38;5;241m=\u001b[39m train_test_split(\u001b[38;5;28minput\u001b[39m, output\u001b[38;5;241m.\u001b[39mT, test_size\u001b[38;5;241m=\u001b[39m\u001b[38;5;241m0.3\u001b[39m, random_state\u001b[38;5;241m=\u001b[39m\u001b[38;5;241m1\u001b[39m)\n",
      "File \u001b[0;32m~/anaconda3/envs/python312/lib/python3.12/site-packages/sklearn/utils/_param_validation.py:213\u001b[0m, in \u001b[0;36mvalidate_params.<locals>.decorator.<locals>.wrapper\u001b[0;34m(*args, **kwargs)\u001b[0m\n\u001b[1;32m    207\u001b[0m \u001b[38;5;28;01mtry\u001b[39;00m:\n\u001b[1;32m    208\u001b[0m     \u001b[38;5;28;01mwith\u001b[39;00m config_context(\n\u001b[1;32m    209\u001b[0m         skip_parameter_validation\u001b[38;5;241m=\u001b[39m(\n\u001b[1;32m    210\u001b[0m             prefer_skip_nested_validation \u001b[38;5;129;01mor\u001b[39;00m global_skip_validation\n\u001b[1;32m    211\u001b[0m         )\n\u001b[1;32m    212\u001b[0m     ):\n\u001b[0;32m--> 213\u001b[0m         \u001b[38;5;28;01mreturn\u001b[39;00m func(\u001b[38;5;241m*\u001b[39margs, \u001b[38;5;241m*\u001b[39m\u001b[38;5;241m*\u001b[39mkwargs)\n\u001b[1;32m    214\u001b[0m \u001b[38;5;28;01mexcept\u001b[39;00m InvalidParameterError \u001b[38;5;28;01mas\u001b[39;00m e:\n\u001b[1;32m    215\u001b[0m     \u001b[38;5;66;03m# When the function is just a wrapper around an estimator, we allow\u001b[39;00m\n\u001b[1;32m    216\u001b[0m     \u001b[38;5;66;03m# the function to delegate validation to the estimator, but we replace\u001b[39;00m\n\u001b[1;32m    217\u001b[0m     \u001b[38;5;66;03m# the name of the estimator by the name of the function in the error\u001b[39;00m\n\u001b[1;32m    218\u001b[0m     \u001b[38;5;66;03m# message to avoid confusion.\u001b[39;00m\n\u001b[1;32m    219\u001b[0m     msg \u001b[38;5;241m=\u001b[39m re\u001b[38;5;241m.\u001b[39msub(\n\u001b[1;32m    220\u001b[0m         \u001b[38;5;124mr\u001b[39m\u001b[38;5;124m\"\u001b[39m\u001b[38;5;124mparameter of \u001b[39m\u001b[38;5;124m\\\u001b[39m\u001b[38;5;124mw+ must be\u001b[39m\u001b[38;5;124m\"\u001b[39m,\n\u001b[1;32m    221\u001b[0m         \u001b[38;5;124mf\u001b[39m\u001b[38;5;124m\"\u001b[39m\u001b[38;5;124mparameter of \u001b[39m\u001b[38;5;132;01m{\u001b[39;00mfunc\u001b[38;5;241m.\u001b[39m\u001b[38;5;18m__qualname__\u001b[39m\u001b[38;5;132;01m}\u001b[39;00m\u001b[38;5;124m must be\u001b[39m\u001b[38;5;124m\"\u001b[39m,\n\u001b[1;32m    222\u001b[0m         \u001b[38;5;28mstr\u001b[39m(e),\n\u001b[1;32m    223\u001b[0m     )\n",
      "File \u001b[0;32m~/anaconda3/envs/python312/lib/python3.12/site-packages/sklearn/model_selection/_split.py:2657\u001b[0m, in \u001b[0;36mtrain_test_split\u001b[0;34m(test_size, train_size, random_state, shuffle, stratify, *arrays)\u001b[0m\n\u001b[1;32m   2654\u001b[0m \u001b[38;5;28;01mif\u001b[39;00m n_arrays \u001b[38;5;241m==\u001b[39m \u001b[38;5;241m0\u001b[39m:\n\u001b[1;32m   2655\u001b[0m     \u001b[38;5;28;01mraise\u001b[39;00m \u001b[38;5;167;01mValueError\u001b[39;00m(\u001b[38;5;124m\"\u001b[39m\u001b[38;5;124mAt least one array required as input\u001b[39m\u001b[38;5;124m\"\u001b[39m)\n\u001b[0;32m-> 2657\u001b[0m arrays \u001b[38;5;241m=\u001b[39m indexable(\u001b[38;5;241m*\u001b[39marrays)\n\u001b[1;32m   2659\u001b[0m n_samples \u001b[38;5;241m=\u001b[39m _num_samples(arrays[\u001b[38;5;241m0\u001b[39m])\n\u001b[1;32m   2660\u001b[0m n_train, n_test \u001b[38;5;241m=\u001b[39m _validate_shuffle_split(\n\u001b[1;32m   2661\u001b[0m     n_samples, test_size, train_size, default_test_size\u001b[38;5;241m=\u001b[39m\u001b[38;5;241m0.25\u001b[39m\n\u001b[1;32m   2662\u001b[0m )\n",
      "File \u001b[0;32m~/anaconda3/envs/python312/lib/python3.12/site-packages/sklearn/utils/validation.py:514\u001b[0m, in \u001b[0;36mindexable\u001b[0;34m(*iterables)\u001b[0m\n\u001b[1;32m    484\u001b[0m \u001b[38;5;250m\u001b[39m\u001b[38;5;124;03m\"\"\"Make arrays indexable for cross-validation.\u001b[39;00m\n\u001b[1;32m    485\u001b[0m \n\u001b[1;32m    486\u001b[0m \u001b[38;5;124;03mChecks consistent length, passes through None, and ensures that everything\u001b[39;00m\n\u001b[0;32m   (...)\u001b[0m\n\u001b[1;32m    510\u001b[0m \u001b[38;5;124;03m[[1, 2, 3], array([2, 3, 4]), None, <3x1 sparse matrix ...>]\u001b[39;00m\n\u001b[1;32m    511\u001b[0m \u001b[38;5;124;03m\"\"\"\u001b[39;00m\n\u001b[1;32m    513\u001b[0m result \u001b[38;5;241m=\u001b[39m [_make_indexable(X) \u001b[38;5;28;01mfor\u001b[39;00m X \u001b[38;5;129;01min\u001b[39;00m iterables]\n\u001b[0;32m--> 514\u001b[0m check_consistent_length(\u001b[38;5;241m*\u001b[39mresult)\n\u001b[1;32m    515\u001b[0m \u001b[38;5;28;01mreturn\u001b[39;00m result\n",
      "File \u001b[0;32m~/anaconda3/envs/python312/lib/python3.12/site-packages/sklearn/utils/validation.py:457\u001b[0m, in \u001b[0;36mcheck_consistent_length\u001b[0;34m(*arrays)\u001b[0m\n\u001b[1;32m    455\u001b[0m uniques \u001b[38;5;241m=\u001b[39m np\u001b[38;5;241m.\u001b[39munique(lengths)\n\u001b[1;32m    456\u001b[0m \u001b[38;5;28;01mif\u001b[39;00m \u001b[38;5;28mlen\u001b[39m(uniques) \u001b[38;5;241m>\u001b[39m \u001b[38;5;241m1\u001b[39m:\n\u001b[0;32m--> 457\u001b[0m     \u001b[38;5;28;01mraise\u001b[39;00m \u001b[38;5;167;01mValueError\u001b[39;00m(\n\u001b[1;32m    458\u001b[0m         \u001b[38;5;124m\"\u001b[39m\u001b[38;5;124mFound input variables with inconsistent numbers of samples: \u001b[39m\u001b[38;5;132;01m%r\u001b[39;00m\u001b[38;5;124m\"\u001b[39m\n\u001b[1;32m    459\u001b[0m         \u001b[38;5;241m%\u001b[39m [\u001b[38;5;28mint\u001b[39m(l) \u001b[38;5;28;01mfor\u001b[39;00m l \u001b[38;5;129;01min\u001b[39;00m lengths]\n\u001b[1;32m    460\u001b[0m     )\n",
      "\u001b[0;31mValueError\u001b[0m: Found input variables with inconsistent numbers of samples: [14900, 343]"
     ]
    }
   ],
   "source": [
    "X_train, X_test, y_train, y_test = train_test_split(input, output.T, test_size=0.3, random_state=1)"
   ]
  },
  {
   "cell_type": "code",
   "execution_count": 800,
   "metadata": {},
   "outputs": [
    {
     "name": "stdout",
     "output_type": "stream",
     "text": [
      "Fit model on training data\n",
      "Epoch 1/100\n",
      "\u001b[1m15/15\u001b[0m \u001b[32m━━━━━━━━━━━━━━━━━━━━\u001b[0m\u001b[37m\u001b[0m \u001b[1m1s\u001b[0m 10ms/step - accuracy: 0.1072 - loss: 0.6929 - val_accuracy: 0.0000e+00 - val_loss: 0.6937\n",
      "Epoch 2/100\n",
      "\u001b[1m15/15\u001b[0m \u001b[32m━━━━━━━━━━━━━━━━━━━━\u001b[0m\u001b[37m\u001b[0m \u001b[1m0s\u001b[0m 5ms/step - accuracy: 0.0788 - loss: 0.6929 - val_accuracy: 0.0097 - val_loss: 0.6937\n",
      "Epoch 3/100\n",
      "\u001b[1m15/15\u001b[0m \u001b[32m━━━━━━━━━━━━━━━━━━━━\u001b[0m\u001b[37m\u001b[0m \u001b[1m0s\u001b[0m 5ms/step - accuracy: 0.1036 - loss: 0.6930 - val_accuracy: 0.0097 - val_loss: 0.6937\n",
      "Epoch 4/100\n",
      "\u001b[1m15/15\u001b[0m \u001b[32m━━━━━━━━━━━━━━━━━━━━\u001b[0m\u001b[37m\u001b[0m \u001b[1m0s\u001b[0m 5ms/step - accuracy: 0.1249 - loss: 0.6929 - val_accuracy: 0.0097 - val_loss: 0.6937\n",
      "Epoch 5/100\n",
      "\u001b[1m15/15\u001b[0m \u001b[32m━━━━━━━━━━━━━━━━━━━━\u001b[0m\u001b[37m\u001b[0m \u001b[1m0s\u001b[0m 5ms/step - accuracy: 0.0741 - loss: 0.6929 - val_accuracy: 0.0097 - val_loss: 0.6937\n",
      "Epoch 6/100\n",
      "\u001b[1m15/15\u001b[0m \u001b[32m━━━━━━━━━━━━━━━━━━━━\u001b[0m\u001b[37m\u001b[0m \u001b[1m0s\u001b[0m 5ms/step - accuracy: 0.1238 - loss: 0.6929 - val_accuracy: 0.0000e+00 - val_loss: 0.6937\n",
      "Epoch 7/100\n",
      "\u001b[1m15/15\u001b[0m \u001b[32m━━━━━━━━━━━━━━━━━━━━\u001b[0m\u001b[37m\u001b[0m \u001b[1m0s\u001b[0m 5ms/step - accuracy: 0.0941 - loss: 0.6929 - val_accuracy: 0.0000e+00 - val_loss: 0.6937\n",
      "Epoch 8/100\n",
      "\u001b[1m15/15\u001b[0m \u001b[32m━━━━━━━━━━━━━━━━━━━━\u001b[0m\u001b[37m\u001b[0m \u001b[1m0s\u001b[0m 5ms/step - accuracy: 0.0952 - loss: 0.6929 - val_accuracy: 0.0000e+00 - val_loss: 0.6937\n",
      "Epoch 9/100\n",
      "\u001b[1m15/15\u001b[0m \u001b[32m━━━━━━━━━━━━━━━━━━━━\u001b[0m\u001b[37m\u001b[0m \u001b[1m0s\u001b[0m 5ms/step - accuracy: 0.1212 - loss: 0.6930 - val_accuracy: 0.0097 - val_loss: 0.6937\n",
      "Epoch 10/100\n",
      "\u001b[1m15/15\u001b[0m \u001b[32m━━━━━━━━━━━━━━━━━━━━\u001b[0m\u001b[37m\u001b[0m \u001b[1m0s\u001b[0m 5ms/step - accuracy: 0.1399 - loss: 0.6929 - val_accuracy: 0.0097 - val_loss: 0.6937\n",
      "Epoch 11/100\n",
      "\u001b[1m15/15\u001b[0m \u001b[32m━━━━━━━━━━━━━━━━━━━━\u001b[0m\u001b[37m\u001b[0m \u001b[1m0s\u001b[0m 5ms/step - accuracy: 0.0859 - loss: 0.6929 - val_accuracy: 0.0097 - val_loss: 0.6937\n",
      "Epoch 12/100\n",
      "\u001b[1m15/15\u001b[0m \u001b[32m━━━━━━━━━━━━━━━━━━━━\u001b[0m\u001b[37m\u001b[0m \u001b[1m0s\u001b[0m 5ms/step - accuracy: 0.1196 - loss: 0.6929 - val_accuracy: 0.0097 - val_loss: 0.6937\n",
      "Epoch 13/100\n",
      "\u001b[1m15/15\u001b[0m \u001b[32m━━━━━━━━━━━━━━━━━━━━\u001b[0m\u001b[37m\u001b[0m \u001b[1m0s\u001b[0m 5ms/step - accuracy: 0.0932 - loss: 0.6929 - val_accuracy: 0.0097 - val_loss: 0.6937\n",
      "Epoch 14/100\n",
      "\u001b[1m15/15\u001b[0m \u001b[32m━━━━━━━━━━━━━━━━━━━━\u001b[0m\u001b[37m\u001b[0m \u001b[1m0s\u001b[0m 5ms/step - accuracy: 0.0906 - loss: 0.6929 - val_accuracy: 0.0000e+00 - val_loss: 0.6937\n",
      "Epoch 15/100\n",
      "\u001b[1m15/15\u001b[0m \u001b[32m━━━━━━━━━━━━━━━━━━━━\u001b[0m\u001b[37m\u001b[0m \u001b[1m0s\u001b[0m 5ms/step - accuracy: 0.1445 - loss: 0.6929 - val_accuracy: 0.0000e+00 - val_loss: 0.6937\n",
      "Epoch 16/100\n",
      "\u001b[1m15/15\u001b[0m \u001b[32m━━━━━━━━━━━━━━━━━━━━\u001b[0m\u001b[37m\u001b[0m \u001b[1m0s\u001b[0m 5ms/step - accuracy: 0.1337 - loss: 0.6929 - val_accuracy: 0.0097 - val_loss: 0.6937\n",
      "Epoch 17/100\n",
      "\u001b[1m15/15\u001b[0m \u001b[32m━━━━━━━━━━━━━━━━━━━━\u001b[0m\u001b[37m\u001b[0m \u001b[1m0s\u001b[0m 5ms/step - accuracy: 0.1031 - loss: 0.6929 - val_accuracy: 0.0000e+00 - val_loss: 0.6937\n",
      "Epoch 18/100\n",
      "\u001b[1m15/15\u001b[0m \u001b[32m━━━━━━━━━━━━━━━━━━━━\u001b[0m\u001b[37m\u001b[0m \u001b[1m0s\u001b[0m 6ms/step - accuracy: 0.1129 - loss: 0.6929 - val_accuracy: 0.0000e+00 - val_loss: 0.6937\n",
      "Epoch 19/100\n",
      "\u001b[1m15/15\u001b[0m \u001b[32m━━━━━━━━━━━━━━━━━━━━\u001b[0m\u001b[37m\u001b[0m \u001b[1m0s\u001b[0m 5ms/step - accuracy: 0.1297 - loss: 0.6929 - val_accuracy: 0.0000e+00 - val_loss: 0.6937\n",
      "Epoch 20/100\n",
      "\u001b[1m15/15\u001b[0m \u001b[32m━━━━━━━━━━━━━━━━━━━━\u001b[0m\u001b[37m\u001b[0m \u001b[1m0s\u001b[0m 8ms/step - accuracy: 0.1439 - loss: 0.6929 - val_accuracy: 0.0000e+00 - val_loss: 0.6937\n",
      "Epoch 21/100\n",
      "\u001b[1m15/15\u001b[0m \u001b[32m━━━━━━━━━━━━━━━━━━━━\u001b[0m\u001b[37m\u001b[0m \u001b[1m0s\u001b[0m 5ms/step - accuracy: 0.1039 - loss: 0.6929 - val_accuracy: 0.0000e+00 - val_loss: 0.6937\n",
      "Epoch 22/100\n",
      "\u001b[1m15/15\u001b[0m \u001b[32m━━━━━━━━━━━━━━━━━━━━\u001b[0m\u001b[37m\u001b[0m \u001b[1m0s\u001b[0m 5ms/step - accuracy: 0.1693 - loss: 0.6929 - val_accuracy: 0.0000e+00 - val_loss: 0.6937\n",
      "Epoch 23/100\n",
      "\u001b[1m15/15\u001b[0m \u001b[32m━━━━━━━━━━━━━━━━━━━━\u001b[0m\u001b[37m\u001b[0m \u001b[1m0s\u001b[0m 5ms/step - accuracy: 0.1522 - loss: 0.6928 - val_accuracy: 0.0000e+00 - val_loss: 0.6937\n",
      "Epoch 24/100\n",
      "\u001b[1m15/15\u001b[0m \u001b[32m━━━━━━━━━━━━━━━━━━━━\u001b[0m\u001b[37m\u001b[0m \u001b[1m0s\u001b[0m 5ms/step - accuracy: 0.1925 - loss: 0.6928 - val_accuracy: 0.0000e+00 - val_loss: 0.6937\n",
      "Epoch 25/100\n",
      "\u001b[1m15/15\u001b[0m \u001b[32m━━━━━━━━━━━━━━━━━━━━\u001b[0m\u001b[37m\u001b[0m \u001b[1m0s\u001b[0m 5ms/step - accuracy: 0.1484 - loss: 0.6928 - val_accuracy: 0.0000e+00 - val_loss: 0.6937\n",
      "Epoch 26/100\n",
      "\u001b[1m15/15\u001b[0m \u001b[32m━━━━━━━━━━━━━━━━━━━━\u001b[0m\u001b[37m\u001b[0m \u001b[1m0s\u001b[0m 5ms/step - accuracy: 0.1115 - loss: 0.6929 - val_accuracy: 0.0000e+00 - val_loss: 0.6937\n",
      "Epoch 27/100\n",
      "\u001b[1m15/15\u001b[0m \u001b[32m━━━━━━━━━━━━━━━━━━━━\u001b[0m\u001b[37m\u001b[0m \u001b[1m0s\u001b[0m 5ms/step - accuracy: 0.1044 - loss: 0.6929 - val_accuracy: 0.0000e+00 - val_loss: 0.6937\n",
      "Epoch 28/100\n",
      "\u001b[1m15/15\u001b[0m \u001b[32m━━━━━━━━━━━━━━━━━━━━\u001b[0m\u001b[37m\u001b[0m \u001b[1m0s\u001b[0m 5ms/step - accuracy: 0.1319 - loss: 0.6928 - val_accuracy: 0.0000e+00 - val_loss: 0.6937\n",
      "Epoch 29/100\n",
      "\u001b[1m15/15\u001b[0m \u001b[32m━━━━━━━━━━━━━━━━━━━━\u001b[0m\u001b[37m\u001b[0m \u001b[1m0s\u001b[0m 5ms/step - accuracy: 0.1295 - loss: 0.6928 - val_accuracy: 0.0000e+00 - val_loss: 0.6937\n",
      "Epoch 30/100\n",
      "\u001b[1m15/15\u001b[0m \u001b[32m━━━━━━━━━━━━━━━━━━━━\u001b[0m\u001b[37m\u001b[0m \u001b[1m0s\u001b[0m 5ms/step - accuracy: 0.1321 - loss: 0.6928 - val_accuracy: 0.0000e+00 - val_loss: 0.6937\n",
      "Epoch 31/100\n",
      "\u001b[1m15/15\u001b[0m \u001b[32m━━━━━━━━━━━━━━━━━━━━\u001b[0m\u001b[37m\u001b[0m \u001b[1m0s\u001b[0m 5ms/step - accuracy: 0.1199 - loss: 0.6929 - val_accuracy: 0.0000e+00 - val_loss: 0.6937\n",
      "Epoch 32/100\n",
      "\u001b[1m15/15\u001b[0m \u001b[32m━━━━━━━━━━━━━━━━━━━━\u001b[0m\u001b[37m\u001b[0m \u001b[1m0s\u001b[0m 6ms/step - accuracy: 0.1171 - loss: 0.6928 - val_accuracy: 0.0000e+00 - val_loss: 0.6937\n",
      "Epoch 33/100\n",
      "\u001b[1m15/15\u001b[0m \u001b[32m━━━━━━━━━━━━━━━━━━━━\u001b[0m\u001b[37m\u001b[0m \u001b[1m0s\u001b[0m 5ms/step - accuracy: 0.1078 - loss: 0.6928 - val_accuracy: 0.0097 - val_loss: 0.6937\n",
      "Epoch 34/100\n",
      "\u001b[1m15/15\u001b[0m \u001b[32m━━━━━━━━━━━━━━━━━━━━\u001b[0m\u001b[37m\u001b[0m \u001b[1m0s\u001b[0m 5ms/step - accuracy: 0.1135 - loss: 0.6928 - val_accuracy: 0.0097 - val_loss: 0.6937\n",
      "Epoch 35/100\n",
      "\u001b[1m15/15\u001b[0m \u001b[32m━━━━━━━━━━━━━━━━━━━━\u001b[0m\u001b[37m\u001b[0m \u001b[1m0s\u001b[0m 5ms/step - accuracy: 0.1153 - loss: 0.6929 - val_accuracy: 0.0097 - val_loss: 0.6937\n",
      "Epoch 36/100\n",
      "\u001b[1m15/15\u001b[0m \u001b[32m━━━━━━━━━━━━━━━━━━━━\u001b[0m\u001b[37m\u001b[0m \u001b[1m0s\u001b[0m 5ms/step - accuracy: 0.1336 - loss: 0.6928 - val_accuracy: 0.0097 - val_loss: 0.6937\n",
      "Epoch 37/100\n",
      "\u001b[1m15/15\u001b[0m \u001b[32m━━━━━━━━━━━━━━━━━━━━\u001b[0m\u001b[37m\u001b[0m \u001b[1m0s\u001b[0m 5ms/step - accuracy: 0.1240 - loss: 0.6929 - val_accuracy: 0.0097 - val_loss: 0.6937\n",
      "Epoch 38/100\n",
      "\u001b[1m15/15\u001b[0m \u001b[32m━━━━━━━━━━━━━━━━━━━━\u001b[0m\u001b[37m\u001b[0m \u001b[1m0s\u001b[0m 5ms/step - accuracy: 0.1297 - loss: 0.6928 - val_accuracy: 0.0000e+00 - val_loss: 0.6937\n",
      "Epoch 39/100\n",
      "\u001b[1m15/15\u001b[0m \u001b[32m━━━━━━━━━━━━━━━━━━━━\u001b[0m\u001b[37m\u001b[0m \u001b[1m0s\u001b[0m 5ms/step - accuracy: 0.1537 - loss: 0.6928 - val_accuracy: 0.0097 - val_loss: 0.6937\n",
      "Epoch 40/100\n",
      "\u001b[1m15/15\u001b[0m \u001b[32m━━━━━━━━━━━━━━━━━━━━\u001b[0m\u001b[37m\u001b[0m \u001b[1m0s\u001b[0m 5ms/step - accuracy: 0.1469 - loss: 0.6928 - val_accuracy: 0.0097 - val_loss: 0.6937\n",
      "Epoch 41/100\n",
      "\u001b[1m15/15\u001b[0m \u001b[32m━━━━━━━━━━━━━━━━━━━━\u001b[0m\u001b[37m\u001b[0m \u001b[1m0s\u001b[0m 5ms/step - accuracy: 0.1742 - loss: 0.6928 - val_accuracy: 0.0097 - val_loss: 0.6937\n",
      "Epoch 42/100\n",
      "\u001b[1m15/15\u001b[0m \u001b[32m━━━━━━━━━━━━━━━━━━━━\u001b[0m\u001b[37m\u001b[0m \u001b[1m0s\u001b[0m 5ms/step - accuracy: 0.1555 - loss: 0.6928 - val_accuracy: 0.0000e+00 - val_loss: 0.6937\n",
      "Epoch 43/100\n",
      "\u001b[1m15/15\u001b[0m \u001b[32m━━━━━━━━━━━━━━━━━━━━\u001b[0m\u001b[37m\u001b[0m \u001b[1m0s\u001b[0m 5ms/step - accuracy: 0.1798 - loss: 0.6928 - val_accuracy: 0.0000e+00 - val_loss: 0.6937\n",
      "Epoch 44/100\n",
      "\u001b[1m15/15\u001b[0m \u001b[32m━━━━━━━━━━━━━━━━━━━━\u001b[0m\u001b[37m\u001b[0m \u001b[1m0s\u001b[0m 5ms/step - accuracy: 0.1417 - loss: 0.6928 - val_accuracy: 0.0000e+00 - val_loss: 0.6937\n",
      "Epoch 45/100\n",
      "\u001b[1m15/15\u001b[0m \u001b[32m━━━━━━━━━━━━━━━━━━━━\u001b[0m\u001b[37m\u001b[0m \u001b[1m0s\u001b[0m 8ms/step - accuracy: 0.1194 - loss: 0.6928 - val_accuracy: 0.0097 - val_loss: 0.6937\n",
      "Epoch 46/100\n",
      "\u001b[1m15/15\u001b[0m \u001b[32m━━━━━━━━━━━━━━━━━━━━\u001b[0m\u001b[37m\u001b[0m \u001b[1m0s\u001b[0m 5ms/step - accuracy: 0.1890 - loss: 0.6928 - val_accuracy: 0.0097 - val_loss: 0.6937\n",
      "Epoch 47/100\n",
      "\u001b[1m15/15\u001b[0m \u001b[32m━━━━━━━━━━━━━━━━━━━━\u001b[0m\u001b[37m\u001b[0m \u001b[1m0s\u001b[0m 5ms/step - accuracy: 0.1310 - loss: 0.6928 - val_accuracy: 0.0097 - val_loss: 0.6937\n",
      "Epoch 48/100\n",
      "\u001b[1m15/15\u001b[0m \u001b[32m━━━━━━━━━━━━━━━━━━━━\u001b[0m\u001b[37m\u001b[0m \u001b[1m0s\u001b[0m 5ms/step - accuracy: 0.1673 - loss: 0.6928 - val_accuracy: 0.0097 - val_loss: 0.6937\n",
      "Epoch 49/100\n",
      "\u001b[1m15/15\u001b[0m \u001b[32m━━━━━━━━━━━━━━━━━━━━\u001b[0m\u001b[37m\u001b[0m \u001b[1m0s\u001b[0m 5ms/step - accuracy: 0.1770 - loss: 0.6927 - val_accuracy: 0.0097 - val_loss: 0.6937\n",
      "Epoch 50/100\n",
      "\u001b[1m15/15\u001b[0m \u001b[32m━━━━━━━━━━━━━━━━━━━━\u001b[0m\u001b[37m\u001b[0m \u001b[1m0s\u001b[0m 5ms/step - accuracy: 0.1562 - loss: 0.6928 - val_accuracy: 0.0097 - val_loss: 0.6937\n",
      "Epoch 51/100\n",
      "\u001b[1m15/15\u001b[0m \u001b[32m━━━━━━━━━━━━━━━━━━━━\u001b[0m\u001b[37m\u001b[0m \u001b[1m0s\u001b[0m 5ms/step - accuracy: 0.1388 - loss: 0.6928 - val_accuracy: 0.0097 - val_loss: 0.6937\n",
      "Epoch 52/100\n",
      "\u001b[1m15/15\u001b[0m \u001b[32m━━━━━━━━━━━━━━━━━━━━\u001b[0m\u001b[37m\u001b[0m \u001b[1m0s\u001b[0m 5ms/step - accuracy: 0.1454 - loss: 0.6928 - val_accuracy: 0.0194 - val_loss: 0.6937\n",
      "Epoch 53/100\n",
      "\u001b[1m15/15\u001b[0m \u001b[32m━━━━━━━━━━━━━━━━━━━━\u001b[0m\u001b[37m\u001b[0m \u001b[1m0s\u001b[0m 6ms/step - accuracy: 0.1692 - loss: 0.6928 - val_accuracy: 0.0097 - val_loss: 0.6937\n",
      "Epoch 54/100\n",
      "\u001b[1m15/15\u001b[0m \u001b[32m━━━━━━━━━━━━━━━━━━━━\u001b[0m\u001b[37m\u001b[0m \u001b[1m0s\u001b[0m 5ms/step - accuracy: 0.1642 - loss: 0.6928 - val_accuracy: 0.0097 - val_loss: 0.6937\n",
      "Epoch 55/100\n",
      "\u001b[1m15/15\u001b[0m \u001b[32m━━━━━━━━━━━━━━━━━━━━\u001b[0m\u001b[37m\u001b[0m \u001b[1m0s\u001b[0m 5ms/step - accuracy: 0.1346 - loss: 0.6928 - val_accuracy: 0.0097 - val_loss: 0.6937\n",
      "Epoch 56/100\n",
      "\u001b[1m15/15\u001b[0m \u001b[32m━━━━━━━━━━━━━━━━━━━━\u001b[0m\u001b[37m\u001b[0m \u001b[1m0s\u001b[0m 5ms/step - accuracy: 0.1246 - loss: 0.6928 - val_accuracy: 0.0194 - val_loss: 0.6937\n",
      "Epoch 57/100\n",
      "\u001b[1m15/15\u001b[0m \u001b[32m━━━━━━━━━━━━━━━━━━━━\u001b[0m\u001b[37m\u001b[0m \u001b[1m0s\u001b[0m 5ms/step - accuracy: 0.1612 - loss: 0.6928 - val_accuracy: 0.0097 - val_loss: 0.6937\n",
      "Epoch 58/100\n",
      "\u001b[1m15/15\u001b[0m \u001b[32m━━━━━━━━━━━━━━━━━━━━\u001b[0m\u001b[37m\u001b[0m \u001b[1m0s\u001b[0m 5ms/step - accuracy: 0.1262 - loss: 0.6927 - val_accuracy: 0.0097 - val_loss: 0.6937\n",
      "Epoch 59/100\n",
      "\u001b[1m15/15\u001b[0m \u001b[32m━━━━━━━━━━━━━━━━━━━━\u001b[0m\u001b[37m\u001b[0m \u001b[1m0s\u001b[0m 5ms/step - accuracy: 0.1426 - loss: 0.6927 - val_accuracy: 0.0097 - val_loss: 0.6937\n",
      "Epoch 60/100\n",
      "\u001b[1m15/15\u001b[0m \u001b[32m━━━━━━━━━━━━━━━━━━━━\u001b[0m\u001b[37m\u001b[0m \u001b[1m0s\u001b[0m 5ms/step - accuracy: 0.2000 - loss: 0.6927 - val_accuracy: 0.0097 - val_loss: 0.6937\n",
      "Epoch 61/100\n",
      "\u001b[1m15/15\u001b[0m \u001b[32m━━━━━━━━━━━━━━━━━━━━\u001b[0m\u001b[37m\u001b[0m \u001b[1m0s\u001b[0m 5ms/step - accuracy: 0.1565 - loss: 0.6927 - val_accuracy: 0.0097 - val_loss: 0.6937\n",
      "Epoch 62/100\n",
      "\u001b[1m15/15\u001b[0m \u001b[32m━━━━━━━━━━━━━━━━━━━━\u001b[0m\u001b[37m\u001b[0m \u001b[1m0s\u001b[0m 5ms/step - accuracy: 0.1385 - loss: 0.6928 - val_accuracy: 0.0097 - val_loss: 0.6937\n",
      "Epoch 63/100\n",
      "\u001b[1m15/15\u001b[0m \u001b[32m━━━━━━━━━━━━━━━━━━━━\u001b[0m\u001b[37m\u001b[0m \u001b[1m0s\u001b[0m 5ms/step - accuracy: 0.1238 - loss: 0.6927 - val_accuracy: 0.0000e+00 - val_loss: 0.6937\n",
      "Epoch 64/100\n",
      "\u001b[1m15/15\u001b[0m \u001b[32m━━━━━━━━━━━━━━━━━━━━\u001b[0m\u001b[37m\u001b[0m \u001b[1m0s\u001b[0m 5ms/step - accuracy: 0.1467 - loss: 0.6928 - val_accuracy: 0.0000e+00 - val_loss: 0.6937\n",
      "Epoch 65/100\n",
      "\u001b[1m15/15\u001b[0m \u001b[32m━━━━━━━━━━━━━━━━━━━━\u001b[0m\u001b[37m\u001b[0m \u001b[1m0s\u001b[0m 5ms/step - accuracy: 0.1579 - loss: 0.6928 - val_accuracy: 0.0000e+00 - val_loss: 0.6937\n",
      "Epoch 66/100\n",
      "\u001b[1m15/15\u001b[0m \u001b[32m━━━━━━━━━━━━━━━━━━━━\u001b[0m\u001b[37m\u001b[0m \u001b[1m0s\u001b[0m 5ms/step - accuracy: 0.1501 - loss: 0.6927 - val_accuracy: 0.0000e+00 - val_loss: 0.6937\n",
      "Epoch 67/100\n",
      "\u001b[1m15/15\u001b[0m \u001b[32m━━━━━━━━━━━━━━━━━━━━\u001b[0m\u001b[37m\u001b[0m \u001b[1m0s\u001b[0m 5ms/step - accuracy: 0.1733 - loss: 0.6927 - val_accuracy: 0.0000e+00 - val_loss: 0.6937\n",
      "Epoch 68/100\n",
      "\u001b[1m15/15\u001b[0m \u001b[32m━━━━━━━━━━━━━━━━━━━━\u001b[0m\u001b[37m\u001b[0m \u001b[1m0s\u001b[0m 8ms/step - accuracy: 0.1350 - loss: 0.6928 - val_accuracy: 0.0000e+00 - val_loss: 0.6937\n",
      "Epoch 69/100\n",
      "\u001b[1m15/15\u001b[0m \u001b[32m━━━━━━━━━━━━━━━━━━━━\u001b[0m\u001b[37m\u001b[0m \u001b[1m0s\u001b[0m 5ms/step - accuracy: 0.1940 - loss: 0.6927 - val_accuracy: 0.0097 - val_loss: 0.6937\n",
      "Epoch 70/100\n",
      "\u001b[1m15/15\u001b[0m \u001b[32m━━━━━━━━━━━━━━━━━━━━\u001b[0m\u001b[37m\u001b[0m \u001b[1m0s\u001b[0m 5ms/step - accuracy: 0.1650 - loss: 0.6927 - val_accuracy: 0.0000e+00 - val_loss: 0.6937\n",
      "Epoch 71/100\n",
      "\u001b[1m15/15\u001b[0m \u001b[32m━━━━━━━━━━━━━━━━━━━━\u001b[0m\u001b[37m\u001b[0m \u001b[1m0s\u001b[0m 5ms/step - accuracy: 0.1382 - loss: 0.6927 - val_accuracy: 0.0097 - val_loss: 0.6937\n",
      "Epoch 72/100\n",
      "\u001b[1m15/15\u001b[0m \u001b[32m━━━━━━━━━━━━━━━━━━━━\u001b[0m\u001b[37m\u001b[0m \u001b[1m0s\u001b[0m 5ms/step - accuracy: 0.1197 - loss: 0.6927 - val_accuracy: 0.0194 - val_loss: 0.6937\n",
      "Epoch 73/100\n",
      "\u001b[1m15/15\u001b[0m \u001b[32m━━━━━━━━━━━━━━━━━━━━\u001b[0m\u001b[37m\u001b[0m \u001b[1m0s\u001b[0m 5ms/step - accuracy: 0.1441 - loss: 0.6928 - val_accuracy: 0.0291 - val_loss: 0.6937\n",
      "Epoch 74/100\n",
      "\u001b[1m15/15\u001b[0m \u001b[32m━━━━━━━━━━━━━━━━━━━━\u001b[0m\u001b[37m\u001b[0m \u001b[1m0s\u001b[0m 5ms/step - accuracy: 0.1878 - loss: 0.6927 - val_accuracy: 0.0097 - val_loss: 0.6937\n",
      "Epoch 75/100\n",
      "\u001b[1m15/15\u001b[0m \u001b[32m━━━━━━━━━━━━━━━━━━━━\u001b[0m\u001b[37m\u001b[0m \u001b[1m0s\u001b[0m 5ms/step - accuracy: 0.1625 - loss: 0.6927 - val_accuracy: 0.0000e+00 - val_loss: 0.6937\n",
      "Epoch 76/100\n",
      "\u001b[1m15/15\u001b[0m \u001b[32m━━━━━━━━━━━━━━━━━━━━\u001b[0m\u001b[37m\u001b[0m \u001b[1m0s\u001b[0m 5ms/step - accuracy: 0.1348 - loss: 0.6928 - val_accuracy: 0.0000e+00 - val_loss: 0.6937\n",
      "Epoch 77/100\n",
      "\u001b[1m15/15\u001b[0m \u001b[32m━━━━━━━━━━━━━━━━━━━━\u001b[0m\u001b[37m\u001b[0m \u001b[1m0s\u001b[0m 5ms/step - accuracy: 0.1424 - loss: 0.6927 - val_accuracy: 0.0000e+00 - val_loss: 0.6937\n",
      "Epoch 78/100\n",
      "\u001b[1m15/15\u001b[0m \u001b[32m━━━━━━━━━━━━━━━━━━━━\u001b[0m\u001b[37m\u001b[0m \u001b[1m0s\u001b[0m 5ms/step - accuracy: 0.1482 - loss: 0.6927 - val_accuracy: 0.0097 - val_loss: 0.6937\n",
      "Epoch 79/100\n",
      "\u001b[1m15/15\u001b[0m \u001b[32m━━━━━━━━━━━━━━━━━━━━\u001b[0m\u001b[37m\u001b[0m \u001b[1m0s\u001b[0m 5ms/step - accuracy: 0.1549 - loss: 0.6927 - val_accuracy: 0.0000e+00 - val_loss: 0.6937\n",
      "Epoch 80/100\n",
      "\u001b[1m15/15\u001b[0m \u001b[32m━━━━━━━━━━━━━━━━━━━━\u001b[0m\u001b[37m\u001b[0m \u001b[1m0s\u001b[0m 5ms/step - accuracy: 0.1655 - loss: 0.6927 - val_accuracy: 0.0000e+00 - val_loss: 0.6937\n",
      "Epoch 81/100\n",
      "\u001b[1m15/15\u001b[0m \u001b[32m━━━━━━━━━━━━━━━━━━━━\u001b[0m\u001b[37m\u001b[0m \u001b[1m0s\u001b[0m 5ms/step - accuracy: 0.1351 - loss: 0.6927 - val_accuracy: 0.0097 - val_loss: 0.6937\n",
      "Epoch 82/100\n",
      "\u001b[1m15/15\u001b[0m \u001b[32m━━━━━━━━━━━━━━━━━━━━\u001b[0m\u001b[37m\u001b[0m \u001b[1m0s\u001b[0m 5ms/step - accuracy: 0.1216 - loss: 0.6927 - val_accuracy: 0.0194 - val_loss: 0.6937\n",
      "Epoch 83/100\n",
      "\u001b[1m15/15\u001b[0m \u001b[32m━━━━━━━━━━━━━━━━━━━━\u001b[0m\u001b[37m\u001b[0m \u001b[1m0s\u001b[0m 6ms/step - accuracy: 0.1664 - loss: 0.6927 - val_accuracy: 0.0194 - val_loss: 0.6937\n",
      "Epoch 84/100\n",
      "\u001b[1m15/15\u001b[0m \u001b[32m━━━━━━━━━━━━━━━━━━━━\u001b[0m\u001b[37m\u001b[0m \u001b[1m0s\u001b[0m 6ms/step - accuracy: 0.1578 - loss: 0.6927 - val_accuracy: 0.0097 - val_loss: 0.6937\n",
      "Epoch 85/100\n",
      "\u001b[1m15/15\u001b[0m \u001b[32m━━━━━━━━━━━━━━━━━━━━\u001b[0m\u001b[37m\u001b[0m \u001b[1m0s\u001b[0m 5ms/step - accuracy: 0.1605 - loss: 0.6927 - val_accuracy: 0.0000e+00 - val_loss: 0.6937\n",
      "Epoch 86/100\n",
      "\u001b[1m15/15\u001b[0m \u001b[32m━━━━━━━━━━━━━━━━━━━━\u001b[0m\u001b[37m\u001b[0m \u001b[1m0s\u001b[0m 5ms/step - accuracy: 0.1838 - loss: 0.6927 - val_accuracy: 0.0000e+00 - val_loss: 0.6937\n",
      "Epoch 87/100\n",
      "\u001b[1m15/15\u001b[0m \u001b[32m━━━━━━━━━━━━━━━━━━━━\u001b[0m\u001b[37m\u001b[0m \u001b[1m0s\u001b[0m 5ms/step - accuracy: 0.1576 - loss: 0.6927 - val_accuracy: 0.0000e+00 - val_loss: 0.6937\n",
      "Epoch 88/100\n",
      "\u001b[1m15/15\u001b[0m \u001b[32m━━━━━━━━━━━━━━━━━━━━\u001b[0m\u001b[37m\u001b[0m \u001b[1m0s\u001b[0m 5ms/step - accuracy: 0.1286 - loss: 0.6927 - val_accuracy: 0.0000e+00 - val_loss: 0.6937\n",
      "Epoch 89/100\n",
      "\u001b[1m15/15\u001b[0m \u001b[32m━━━━━━━━━━━━━━━━━━━━\u001b[0m\u001b[37m\u001b[0m \u001b[1m0s\u001b[0m 5ms/step - accuracy: 0.1579 - loss: 0.6928 - val_accuracy: 0.0000e+00 - val_loss: 0.6937\n",
      "Epoch 90/100\n",
      "\u001b[1m15/15\u001b[0m \u001b[32m━━━━━━━━━━━━━━━━━━━━\u001b[0m\u001b[37m\u001b[0m \u001b[1m0s\u001b[0m 9ms/step - accuracy: 0.1779 - loss: 0.6927 - val_accuracy: 0.0000e+00 - val_loss: 0.6937\n",
      "Epoch 91/100\n",
      "\u001b[1m15/15\u001b[0m \u001b[32m━━━━━━━━━━━━━━━━━━━━\u001b[0m\u001b[37m\u001b[0m \u001b[1m0s\u001b[0m 5ms/step - accuracy: 0.1627 - loss: 0.6928 - val_accuracy: 0.0097 - val_loss: 0.6937\n",
      "Epoch 92/100\n",
      "\u001b[1m15/15\u001b[0m \u001b[32m━━━━━━━━━━━━━━━━━━━━\u001b[0m\u001b[37m\u001b[0m \u001b[1m0s\u001b[0m 5ms/step - accuracy: 0.1668 - loss: 0.6927 - val_accuracy: 0.0000e+00 - val_loss: 0.6937\n",
      "Epoch 93/100\n",
      "\u001b[1m15/15\u001b[0m \u001b[32m━━━━━━━━━━━━━━━━━━━━\u001b[0m\u001b[37m\u001b[0m \u001b[1m0s\u001b[0m 5ms/step - accuracy: 0.1780 - loss: 0.6927 - val_accuracy: 0.0097 - val_loss: 0.6937\n",
      "Epoch 94/100\n",
      "\u001b[1m15/15\u001b[0m \u001b[32m━━━━━━━━━━━━━━━━━━━━\u001b[0m\u001b[37m\u001b[0m \u001b[1m0s\u001b[0m 5ms/step - accuracy: 0.1670 - loss: 0.6927 - val_accuracy: 0.0097 - val_loss: 0.6937\n",
      "Epoch 95/100\n",
      "\u001b[1m15/15\u001b[0m \u001b[32m━━━━━━━━━━━━━━━━━━━━\u001b[0m\u001b[37m\u001b[0m \u001b[1m0s\u001b[0m 5ms/step - accuracy: 0.1915 - loss: 0.6927 - val_accuracy: 0.0000e+00 - val_loss: 0.6937\n",
      "Epoch 96/100\n",
      "\u001b[1m15/15\u001b[0m \u001b[32m━━━━━━━━━━━━━━━━━━━━\u001b[0m\u001b[37m\u001b[0m \u001b[1m0s\u001b[0m 5ms/step - accuracy: 0.1583 - loss: 0.6927 - val_accuracy: 0.0097 - val_loss: 0.6937\n",
      "Epoch 97/100\n",
      "\u001b[1m15/15\u001b[0m \u001b[32m━━━━━━━━━━━━━━━━━━━━\u001b[0m\u001b[37m\u001b[0m \u001b[1m0s\u001b[0m 5ms/step - accuracy: 0.1392 - loss: 0.6927 - val_accuracy: 0.0000e+00 - val_loss: 0.6937\n",
      "Epoch 98/100\n",
      "\u001b[1m15/15\u001b[0m \u001b[32m━━━━━━━━━━━━━━━━━━━━\u001b[0m\u001b[37m\u001b[0m \u001b[1m0s\u001b[0m 5ms/step - accuracy: 0.1838 - loss: 0.6927 - val_accuracy: 0.0000e+00 - val_loss: 0.6937\n",
      "Epoch 99/100\n",
      "\u001b[1m15/15\u001b[0m \u001b[32m━━━━━━━━━━━━━━━━━━━━\u001b[0m\u001b[37m\u001b[0m \u001b[1m0s\u001b[0m 5ms/step - accuracy: 0.1845 - loss: 0.6927 - val_accuracy: 0.0000e+00 - val_loss: 0.6937\n",
      "Epoch 100/100\n",
      "\u001b[1m15/15\u001b[0m \u001b[32m━━━━━━━━━━━━━━━━━━━━\u001b[0m\u001b[37m\u001b[0m \u001b[1m0s\u001b[0m 5ms/step - accuracy: 0.1585 - loss: 0.6927 - val_accuracy: 0.0000e+00 - val_loss: 0.6937\n"
     ]
    }
   ],
   "source": [
    "print(\"Fit model on training data\")\n",
    "history = model.fit(\n",
    "    X_train,\n",
    "    y_train,\n",
    "    epochs=100,\n",
    "    batch_size=16,\n",
    "    validation_data = (X_test,y_test)\n",
    ")"
   ]
  },
  {
   "cell_type": "markdown",
   "metadata": {},
   "source": [
    "# TODO \n",
    "Hay que hacer más datos de train buenos que no solo sean one-hot sino que sean de varios hot"
   ]
  }
 ],
 "metadata": {
  "kernelspec": {
   "display_name": "Python 3",
   "language": "python",
   "name": "python3"
  },
  "language_info": {
   "codemirror_mode": {
    "name": "ipython",
    "version": 3
   },
   "file_extension": ".py",
   "mimetype": "text/x-python",
   "name": "python",
   "nbconvert_exporter": "python",
   "pygments_lexer": "ipython3",
   "version": "3.12.2"
  }
 },
 "nbformat": 4,
 "nbformat_minor": 2
}
